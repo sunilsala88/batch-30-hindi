{
 "cells": [
  {
   "cell_type": "code",
   "execution_count": 1,
   "metadata": {},
   "outputs": [],
   "source": [
    "stock_price={\n",
    "    'apple': [100, 200, 300,{\"profit\": 100, \"loss\": 200}],\n",
    "    'microsoft': [200, 300, 400,{\"profit\": 200, \"loss\": 300}],\n",
    "    'google': [300, 400, 500,{\"profit\": 300, \"loss\": 400}]\n",
    "}"
   ]
  },
  {
   "cell_type": "code",
   "execution_count": 10,
   "metadata": {},
   "outputs": [],
   "source": [
    "name='microsoft'\n",
    "p='profit'\n"
   ]
  },
  {
   "cell_type": "code",
   "execution_count": 15,
   "metadata": {},
   "outputs": [
    {
     "data": {
      "text/plain": [
       "200"
      ]
     },
     "execution_count": 15,
     "metadata": {},
     "output_type": "execute_result"
    }
   ],
   "source": [
    "loss=stock_price.get(name)[3].get('profit')\n",
    "loss"
   ]
  },
  {
   "cell_type": "code",
   "execution_count": 16,
   "metadata": {},
   "outputs": [],
   "source": [
    "hedge_fund_portfolio = {\n",
    "    \"fund_name\": \"Alpha Investments\",\n",
    "    \"portfolio_value\": 50000000,\n",
    "    \"investments\": [\n",
    "\n",
    "        {\n",
    "            \"type\": \"Equity\",\n",
    "            \"holdings\": [\n",
    "                {\"ticker\": \"AAPL\", \"quantity\": 10000, \"average_buy_price\": 120},\n",
    "                {\"ticker\": \"TSLA\", \"quantity\": 5000, \"average_buy_price\": 600}\n",
    "            ]\n",
    "        },\n",
    "\n",
    "        {\n",
    "            \"type\": \"Fixed Income\",\n",
    "            \"holdings\": [\n",
    "                {\"bond_issue\": \"US Treasuries\", \"amount\": 10000000, \"yield\": 1.5}\n",
    "            ]\n",
    "        },\n",
    "\n",
    "        {\n",
    "            \"type\": \"Derivatives\",\n",
    "            \"holdings\": [\n",
    "                {\"instrument\": \"Options\", \"details\": {\"underlying\": \"GOOGL\", \"type\": \"Call\", \"strike_price\": 1500}}\n",
    "            ]\n",
    "        }\n",
    "\n",
    "    ],\n",
    "    \"performance_metrics\": {\n",
    "        \"year_to_date_return\": 5.2,\n",
    "        \"five_year_annualized_return\": 7.1\n",
    "    }\n",
    "}"
   ]
  },
  {
   "cell_type": "code",
   "execution_count": 18,
   "metadata": {},
   "outputs": [
    {
     "data": {
      "text/plain": [
       "5.2"
      ]
     },
     "execution_count": 18,
     "metadata": {},
     "output_type": "execute_result"
    }
   ],
   "source": [
    "hedge_fund_portfolio.get('performance_metrics').get('year_to_date_return')"
   ]
  },
  {
   "cell_type": "code",
   "execution_count": 22,
   "metadata": {},
   "outputs": [
    {
     "data": {
      "text/plain": [
       "5000"
      ]
     },
     "execution_count": 22,
     "metadata": {},
     "output_type": "execute_result"
    }
   ],
   "source": [
    "hedge_fund_portfolio.get('investments')[0].get('holdings')[1].get('quantity')"
   ]
  }
 ],
 "metadata": {
  "kernelspec": {
   "display_name": "Python 3",
   "language": "python",
   "name": "python3"
  },
  "language_info": {
   "codemirror_mode": {
    "name": "ipython",
    "version": 3
   },
   "file_extension": ".py",
   "mimetype": "text/x-python",
   "name": "python",
   "nbconvert_exporter": "python",
   "pygments_lexer": "ipython3",
   "version": "3.12.8"
  }
 },
 "nbformat": 4,
 "nbformat_minor": 2
}
