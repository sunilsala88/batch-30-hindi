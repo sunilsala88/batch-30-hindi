{
 "cells": [
  {
   "cell_type": "code",
   "execution_count": 3,
   "metadata": {},
   "outputs": [
    {
     "data": {
      "text/plain": [
       "'amzn:300\\ntsla:500\\ngoog:800'"
      ]
     },
     "execution_count": 3,
     "metadata": {},
     "output_type": "execute_result"
    }
   ],
   "source": [
    "f1=open('/Users/algo trading 2025/batch 30 hindi/new_data.txt','r')\n",
    "data=f1.read()\n",
    "data"
   ]
  },
  {
   "cell_type": "code",
   "execution_count": 6,
   "metadata": {},
   "outputs": [
    {
     "data": {
      "text/plain": [
       "{'amzn': 300, 'tsla': 500, 'goog': 800}"
      ]
     },
     "execution_count": 6,
     "metadata": {},
     "output_type": "execute_result"
    }
   ],
   "source": [
    "data.split('\\n')\n",
    "stock_prices={}\n",
    "for elem in data.split('\\n'):\n",
    "    k,v=elem.split(':')\n",
    "    stock_prices.update({k:int(v)})\n",
    "stock_prices\n"
   ]
  },
  {
   "cell_type": "code",
   "execution_count": 10,
   "metadata": {},
   "outputs": [],
   "source": [
    "f2=open('new1.txt','w')\n",
    "f2.write(\"88 99\")\n",
    "f2.close()"
   ]
  },
  {
   "cell_type": "code",
   "execution_count": null,
   "metadata": {},
   "outputs": [
    {
     "name": "stdout",
     "output_type": "stream",
     "text": [
      "this stock does not exist\n",
      "{'amzn': 400, 'tsla': 900}\n"
     ]
    }
   ],
   "source": [
    "\n",
    "def take_stock_input(stock_prices:dict)->dict:\n",
    "    \"\"\"\n",
    "    take input of stocks and return portfolio dict\n",
    "    \"\"\"\n",
    "\n",
    "    portfolio={}\n",
    "    while True:\n",
    "        name=input('enter the stock name?: ')\n",
    "        if name.upper()=='Q':\n",
    "            break\n",
    "        if name=='nifty':\n",
    "            print('you cannot trade this stock type again?')\n",
    "            continue\n",
    "        found=stock_prices.get(name)\n",
    "        if found:\n",
    "            portfolio.update({name:found})\n",
    "        else:\n",
    "            print('this stock does not exist')\n",
    "    return (portfolio)\n",
    "\n",
    "#hw also write total into the file\n",
    "def write_to_file(portfolio):\n",
    "    f1=open('portfolio.txt','a')\n",
    "    for i,j in portfolio.items():\n",
    "        d=i+\":\"+str(j)+'\\n'\n",
    "        f1.write(d)\n",
    "    \n",
    "    f1.close()\n",
    "\n",
    "stock_prices={'amzn':400,'tsla':900,'goog':578,'nifty':6353}\n",
    "p=take_stock_input(stock_prices)\n",
    "write_to_file(p)\n",
    "print(p)\n"
   ]
  }
 ],
 "metadata": {
  "kernelspec": {
   "display_name": "Python 3",
   "language": "python",
   "name": "python3"
  },
  "language_info": {
   "codemirror_mode": {
    "name": "ipython",
    "version": 3
   },
   "file_extension": ".py",
   "mimetype": "text/x-python",
   "name": "python",
   "nbconvert_exporter": "python",
   "pygments_lexer": "ipython3",
   "version": "3.12.8"
  }
 },
 "nbformat": 4,
 "nbformat_minor": 2
}
